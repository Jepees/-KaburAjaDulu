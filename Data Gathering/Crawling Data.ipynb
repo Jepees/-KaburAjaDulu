{
 "cells": [
  {
   "cell_type": "code",
   "execution_count": null,
   "metadata": {},
   "outputs": [],
   "source": [
    "import pandas as pd\n",
    "from googleapiclient.discovery import build"
   ]
  },
  {
   "cell_type": "markdown",
   "metadata": {},
   "source": [
    "# Scrap Data X dengan Tweet Harvest"
   ]
  },
  {
   "cell_type": "code",
   "execution_count": null,
   "metadata": {},
   "outputs": [],
   "source": [
    "#@title Twitter Auth Token\n"
   ]
  },
  {
   "cell_type": "code",
   "execution_count": 3,
   "metadata": {},
   "outputs": [
    {
     "name": "stderr",
     "output_type": "stream",
     "text": [
      "'sudo' is not recognized as an internal or external command,\n",
      "operable program or batch file.\n",
      "'sudo' is not recognized as an internal or external command,\n",
      "operable program or batch file.\n"
     ]
    },
    {
     "name": "stderr",
     "output_type": "stream",
     "text": [
      "'sudo' is not recognized as an internal or external command,\n",
      "operable program or batch file.\n",
      "'sudo' is not recognized as an internal or external command,\n",
      "operable program or batch file.\n",
      "'NODE_MAJOR' is not recognized as an internal or external command,\n",
      "operable program or batch file.\n",
      "'sudo' is not recognized as an internal or external command,\n",
      "operable program or batch file.\n",
      "'sudo' is not recognized as an internal or external command,\n",
      "operable program or batch file.\n"
     ]
    },
    {
     "name": "stdout",
     "output_type": "stream",
     "text": [
      "v21.7.3\n"
     ]
    }
   ],
   "source": [
    "!sudo apt-get update\n",
    "!sudo apt-get install -y ca-certificates curl gnupg\n",
    "!sudo mkdir -p /etc/apt/keyrings\n",
    "!curl -fsSL https://deb.nodesource.com/gpgkey/nodesource-repo.gpg.key | sudo gpg --dearmor -o /etc/apt/keyrings/nodesource.gpg\n",
    "\n",
    "!NODE_MAJOR=20 && echo \"deb [signed-by=/etc/apt/keyrings/nodesource.gpg] https://deb.nodesource.com/node_$NODE_MAJOR.x nodistro main\" | sudo tee /etc/apt/sources.list.d/nodesource.list\n",
    "\n",
    "!sudo apt-get update\n",
    "!sudo apt-get install nodejs -y\n",
    "\n",
    "!node -v\n"
   ]
  },
  {
   "cell_type": "code",
   "execution_count": 39,
   "metadata": {},
   "outputs": [],
   "source": [
    "keywords = [\n",
    "            # \"#KaburAjaDulu lang:id since:2025-1-1 until:2025-2-1\",\n",
    "            # \"#KaburAjaDulu lang:id since:2025-2-1 until:2025-3-1\",\n",
    "            # \"#KaburAjaDulu lang:id since:2025-3-1 until:2025-4-1\",\n",
    "            # \"#KaburAjaDulu lang:id since:2025-4-1 until:2025-5-1\",\n",
    "            # \"#KaburAjaDulu lang:id since:2025-5-1 until:2025-5-30\",\n",
    "\n",
    "            # \"Indonesia Gelap lang:id since:2025-1-1 until:2025-2-1\",\n",
    "            # \"Indonesia Gelap lang:id since:2025-2-1 until:2025-3-1\",\n",
    "            # \"Indonesia Gelap lang:id since:2025-3-1 until:2025-4-1\",\n",
    "            # \"Indonesia Gelap lang:id since:2025-4-1 until:2025-5-1\",\n",
    "            # \"Indonesia Gelap lang:id since:2025-5-1 until:2025-5-30\",\n",
    "\n",
    "            # \"Kabur Aja Dulu lang:id since:2025-1-1 until:2025-2-1\",\n",
    "            # \"Kabur Aja Dulu lang:id since:2025-2-1 until:2025-3-1\",\n",
    "            # \"Kabur Aja Dulu lang:id since:2025-3-1 until:2025-4-1\",\n",
    "            # \"Kabur Aja Dulu lang:id since:2025-4-1 until:2025-5-1\",\n",
    "            \"Kabur Aja Dulu lang:id since:2025-5-1 until:2025-5-30\",\n",
    "]"
   ]
  },
  {
   "cell_type": "code",
   "execution_count": 40,
   "metadata": {},
   "outputs": [
    {
     "name": "stdout",
     "output_type": "stream",
     "text": [
      "\u001b[1m\u001b[32mTweet Harvest [v2.6.1]\u001b[39m\u001b[22m\n",
      "\u001b[1m\u001b[32m\u001b[39m\u001b[22m\n",
      "\u001b[34mResearch by \u001b[39m\u001b[1m\u001b[34mHelmi Satria\u001b[39m\u001b[22m\u001b[34m\u001b[39m\n",
      "\u001b[34mUse it for Educational Purposes only!\u001b[39m\n",
      "\u001b[34m\u001b[39m\n",
      "\u001b[33mThis script uses Chromium Browser to crawl data from Twitter with \u001b[1myour Twitter auth token\u001b[22m.\u001b[39m\n",
      "\u001b[33mPlease enter your Twitter auth token when prompted.\u001b[39m\n",
      "\u001b[33m\u001b[39m\n",
      "\u001b[31m\u001b[1mNote:\u001b[22m\u001b[39m Keep your access token secret! Don't share it with anyone else.\n",
      "\u001b[31m\u001b[1mNote:\u001b[22m\u001b[39m This script only runs on your local device.\n",
      "\n",
      "\u001b[34m\u001b[39m\n",
      "\u001b[34mOpening twitter search page...\u001b[39m\n",
      "\u001b[34m\u001b[39m\n",
      "\u001b[33m\u001b[39m\n",
      "\u001b[33mFilling in keywords: Kabur Aja Dulu lang:id since:2025-5-1 until:2025-5-30\u001b[39m\n",
      "\u001b[33m\u001b[39m\n",
      "\u001b[90m\u001b[39m\n",
      "\u001b[90m-- Scrolling... (1)\u001b[39m\u001b[34m\u001b[39m\n",
      "\u001b[34m\u001b[39m\n",
      "\u001b[34mYour tweets saved to: d:\\DANIs D\\KULIAH\\Semester 6\\Social Network Analysis\\Task\\UTS\\tweets-data\\Kabur_Aja_Dulu_lang-id_since-2025-5-1_until-2025-5-30.csv\u001b[39m\n",
      "\u001b[33mTotal tweets saved: 18\u001b[39m\n",
      "\u001b[90m\u001b[39m\n",
      "\u001b[90m-- Scrolling... (1)\u001b[39m\u001b[90m (2)\u001b[39m\u001b[34m\u001b[39m\n",
      "\u001b[34m\u001b[39m\n",
      "\u001b[34mYour tweets saved to: d:\\DANIs D\\KULIAH\\Semester 6\\Social Network Analysis\\Task\\UTS\\tweets-data\\Kabur_Aja_Dulu_lang-id_since-2025-5-1_until-2025-5-30.csv\u001b[39m\n",
      "\u001b[33mTotal tweets saved: 38\u001b[39m\n",
      "\u001b[90m\u001b[39m\n",
      "\u001b[90m-- Scrolling... (1)\u001b[39m\u001b[34m\u001b[39m\n",
      "\u001b[34m\u001b[39m\n",
      "\u001b[34mYour tweets saved to: d:\\DANIs D\\KULIAH\\Semester 6\\Social Network Analysis\\Task\\UTS\\tweets-data\\Kabur_Aja_Dulu_lang-id_since-2025-5-1_until-2025-5-30.csv\u001b[39m\n",
      "\u001b[33mTotal tweets saved: 57\u001b[39m\n",
      "\u001b[90m\u001b[39m\n",
      "\u001b[90m-- Scrolling... (1)\u001b[39m\u001b[34m\u001b[39m\n",
      "\u001b[34m\u001b[39m\n",
      "\u001b[34mYour tweets saved to: d:\\DANIs D\\KULIAH\\Semester 6\\Social Network Analysis\\Task\\UTS\\tweets-data\\Kabur_Aja_Dulu_lang-id_since-2025-5-1_until-2025-5-30.csv\u001b[39m\n",
      "\u001b[33mTotal tweets saved: 77\u001b[39m\n",
      "\u001b[90m\u001b[39m\n",
      "\u001b[90m-- Scrolling... (1)\u001b[39m\u001b[34m\u001b[39m\n",
      "\u001b[34m\u001b[39m\n",
      "\u001b[34mYour tweets saved to: d:\\DANIs D\\KULIAH\\Semester 6\\Social Network Analysis\\Task\\UTS\\tweets-data\\Kabur_Aja_Dulu_lang-id_since-2025-5-1_until-2025-5-30.csv\u001b[39m\n",
      "\u001b[33mTotal tweets saved: 96\u001b[39m\n",
      "\u001b[90m\u001b[39m\n",
      "\u001b[90m-- Scrolling... (1)\u001b[39m\u001b[34m\u001b[39m\n",
      "\u001b[34m\u001b[39m\n",
      "\u001b[34mYour tweets saved to: d:\\DANIs D\\KULIAH\\Semester 6\\Social Network Analysis\\Task\\UTS\\tweets-data\\Kabur_Aja_Dulu_lang-id_since-2025-5-1_until-2025-5-30.csv\u001b[39m\n",
      "\u001b[33mTotal tweets saved: 116\u001b[39m\n",
      "\u001b[90m\u001b[39m\n",
      "\u001b[90m--Taking a break, waiting for 10 seconds...\u001b[39m\n",
      "\u001b[90m\u001b[39m\n",
      "\u001b[90m-- Scrolling... (1)\u001b[39m\u001b[34m\u001b[39m\n",
      "\u001b[34m\u001b[39m\n",
      "\u001b[34mYour tweets saved to: d:\\DANIs D\\KULIAH\\Semester 6\\Social Network Analysis\\Task\\UTS\\tweets-data\\Kabur_Aja_Dulu_lang-id_since-2025-5-1_until-2025-5-30.csv\u001b[39m\n",
      "\u001b[33mTotal tweets saved: 136\u001b[39m\n",
      "\u001b[90m\u001b[39m\n",
      "\u001b[90m-- Scrolling... (1)\u001b[39m\u001b[34m\u001b[39m\n",
      "\u001b[34m\u001b[39m\n",
      "\u001b[34mYour tweets saved to: d:\\DANIs D\\KULIAH\\Semester 6\\Social Network Analysis\\Task\\UTS\\tweets-data\\Kabur_Aja_Dulu_lang-id_since-2025-5-1_until-2025-5-30.csv\u001b[39m\n",
      "\u001b[33mTotal tweets saved: 155\u001b[39m\n",
      "\u001b[90m\u001b[39m\n",
      "\u001b[90m-- Scrolling... (1)\u001b[39m\u001b[34m\u001b[39m\n",
      "\u001b[34m\u001b[39m\n",
      "\u001b[34mYour tweets saved to: d:\\DANIs D\\KULIAH\\Semester 6\\Social Network Analysis\\Task\\UTS\\tweets-data\\Kabur_Aja_Dulu_lang-id_since-2025-5-1_until-2025-5-30.csv\u001b[39m\n",
      "\u001b[33mTotal tweets saved: 173\u001b[39m\n",
      "\u001b[90m\u001b[39m\n",
      "\u001b[90m-- Scrolling... (1)\u001b[39m\u001b[34m\u001b[39m\n",
      "\u001b[34m\u001b[39m\n",
      "\u001b[34mYour tweets saved to: d:\\DANIs D\\KULIAH\\Semester 6\\Social Network Analysis\\Task\\UTS\\tweets-data\\Kabur_Aja_Dulu_lang-id_since-2025-5-1_until-2025-5-30.csv\u001b[39m\n",
      "\u001b[33mTotal tweets saved: 193\u001b[39m\n",
      "\u001b[90m\u001b[39m\n",
      "\u001b[90m-- Scrolling... (1)\u001b[39m\u001b[34m\u001b[39m\n",
      "\u001b[34m\u001b[39m\n",
      "\u001b[34mYour tweets saved to: d:\\DANIs D\\KULIAH\\Semester 6\\Social Network Analysis\\Task\\UTS\\tweets-data\\Kabur_Aja_Dulu_lang-id_since-2025-5-1_until-2025-5-30.csv\u001b[39m\n",
      "\u001b[33mTotal tweets saved: 212\u001b[39m\n",
      "Got 212 tweets, done scrolling...\n"
     ]
    }
   ],
   "source": [
    "# Crawl Data\n",
    "for keyword in keywords:\n",
    "    filename = f'{keyword}.csv'\n",
    "    search_keyword = f'{keyword}'\n",
    "    limit = 200\n",
    "    !npx --yes tweet-harvest@2.6.1 -o \"{filename}\" -s \"{search_keyword}\" --tab \"LATEST\" -l {limit} --token {twitter_auth_token}"
   ]
  },
  {
   "cell_type": "markdown",
   "metadata": {},
   "source": [
    "# Scrap Comment YouTube dengan API YouTube"
   ]
  },
  {
   "cell_type": "code",
   "execution_count": 1,
   "metadata": {},
   "outputs": [],
   "source": [
    "def video_comments(video_id):\n",
    "\t# empty list for storing reply\n",
    "\treplies = []\n",
    "\n",
    "\t# creating youtube resource object\n",
    "\tyoutube = build('youtube', 'v3', developerKey=api_key)\n",
    "\n",
    "\t# retrieve youtube video results\n",
    "\tvideo_response = youtube.commentThreads().list(part='snippet,replies', videoId=video_id).execute()\n",
    "\n",
    "\t# iterate video response\n",
    "\twhile video_response:\n",
    "\n",
    "\t\t# extracting required info\n",
    "\t\t# from each result object\n",
    "\t\tfor item in video_response['items']:\n",
    "\n",
    "\t\t\t# Extracting comments ()\n",
    "\t\t\tpublished = item['snippet']['topLevelComment']['snippet']['publishedAt']\n",
    "\t\t\tuser = item['snippet']['topLevelComment']['snippet']['authorDisplayName']\n",
    "\n",
    "\t\t\t# Extracting comments\n",
    "\t\t\tcomment = item['snippet']['topLevelComment']['snippet']['textDisplay']\n",
    "\t\t\tlikeCount = item['snippet']['topLevelComment']['snippet']['likeCount']\n",
    "\n",
    "\t\t\treplies.append([published, user, comment, likeCount])\n",
    "\n",
    "\t\t\t# counting number of reply of comment\n",
    "\t\t\treplycount = item['snippet']['totalReplyCount']\n",
    "\n",
    "\t\t\t# if reply is there\n",
    "\t\t\tif replycount>0:\n",
    "\t\t\t\t# iterate through all reply\n",
    "\t\t\t\tfor reply in item['replies']['comments']:\n",
    "\n",
    "\t\t\t\t\t# Extract reply\n",
    "\t\t\t\t\tpublished = reply['snippet']['publishedAt']\n",
    "\t\t\t\t\tuser = reply['snippet']['authorDisplayName']\n",
    "\t\t\t\t\trepl = reply['snippet']['textDisplay']\n",
    "\t\t\t\t\tlikeCount = reply['snippet']['likeCount']\n",
    "\n",
    "\t\t\t\t\t# Store reply is list\n",
    "\t\t\t\t\t#replies.append(reply)\n",
    "\t\t\t\t\treplies.append([published, user, repl, likeCount])\n",
    "\n",
    "\t\t\t# print comment with list of reply\n",
    "\t\t\t#print(comment, replies, end = '\\n\\n')\n",
    "\n",
    "\t\t\t# empty reply list\n",
    "\t\t\t#replies = []\n",
    "\n",
    "\t\t# Again repeat\n",
    "\t\tif 'nextPageToken' in video_response:\n",
    "\t\t\tvideo_response = youtube.commentThreads().list(\n",
    "\t\t\t\t\tpart = 'snippet,replies',\n",
    "\t\t\t\t\tpageToken = video_response['nextPageToken'],\n",
    "\t\t\t\t\tvideoId = video_id\n",
    "\t\t\t\t).execute()\n",
    "\t\telse:\n",
    "\t\t\tbreak\n",
    "\t#endwhile\n",
    "\treturn replies\n"
   ]
  },
  {
   "cell_type": "code",
   "execution_count": null,
   "metadata": {},
   "outputs": [],
   "source": [
    "# isikan dengan api key Anda\n",
    "api_key = 'AI########******'\n",
    "\n",
    "# Enter video id\n",
    "\n",
    "video_id = \"AaMMc0mhMKw\" #isikan dengan kode / ID video\n",
    "\n",
    "# Call function\n",
    "comments = video_comments(video_id)\n",
    "\n",
    "comments"
   ]
  },
  {
   "cell_type": "code",
   "execution_count": null,
   "metadata": {},
   "outputs": [],
   "source": [
    "data = pd.DataFrame(comments, columns=['publishedAt', 'authorDisplayName', 'textDisplay', 'likeCount'])\n",
    "data"
   ]
  },
  {
   "cell_type": "code",
   "execution_count": 2,
   "metadata": {},
   "outputs": [],
   "source": [
    "# data.to_csv('AMS scraping yt.csv', index=False)"
   ]
  },
  {
   "cell_type": "code",
   "execution_count": null,
   "metadata": {},
   "outputs": [],
   "source": []
  }
 ],
 "metadata": {
  "kernelspec": {
   "display_name": "Python 3",
   "language": "python",
   "name": "python3"
  },
  "language_info": {
   "codemirror_mode": {
    "name": "ipython",
    "version": 3
   },
   "file_extension": ".py",
   "mimetype": "text/x-python",
   "name": "python",
   "nbconvert_exporter": "python",
   "pygments_lexer": "ipython3",
   "version": "3.10.13"
  }
 },
 "nbformat": 4,
 "nbformat_minor": 2
}
